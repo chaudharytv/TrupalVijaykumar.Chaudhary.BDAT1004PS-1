{
 "cells": [
  {
   "cell_type": "markdown",
   "id": "52eeec58",
   "metadata": {},
   "source": [
    "# BDAT 1004 – Data Programming\n",
    "# Problem Set 1 - C#\n",
    "\n",
    "## Author - Trupal Vijaykumar Chaudhary\n",
    "## ID - 200557631"
   ]
  },
  {
   "cell_type": "markdown",
   "id": "e54b7b99",
   "metadata": {},
   "source": [
    "# -----------------------------------------------------------------------------------------"
   ]
  },
  {
   "cell_type": "markdown",
   "id": "57534c7f",
   "metadata": {},
   "source": [
    "## Question 6 \n",
    "\n",
    "### You can turn a word into pig-Latin using the following two rules (simplified):\n",
    "### • If the word starts with a consonant, move that letter to the end and append 'ay'. \n",
    "### • If the word starts with a vowel, simply append 'way' to the end of the word.\n",
    "### Write a function pig() that takes a word (i.e., a string) as input and returns its pig- Latin form. \n",
    "### Your function should still work if the input word contains upper case characters. Your output should always be lower case however.\n",
    "\n",
    "\n"
   ]
  },
  {
   "cell_type": "code",
   "execution_count": 8,
   "id": "c34f761f",
   "metadata": {},
   "outputs": [
    {
     "name": "stdout",
     "output_type": "stream",
     "text": [
      "Enter the word: HAPPY\n",
      "The pig-latin form for HAPPY is : appyhay\n",
      "The pig-latin form for ENTER is : enterway\n"
     ]
    }
   ],
   "source": [
    "def pig(inputword):\n",
    "    vowels = \"aeiou\"\n",
    "    inputword = inputword.lower()\n",
    "    \n",
    "    if inputword[0] in vowels:\n",
    "        return inputword + \"way\"\n",
    "    else:\n",
    "        return inputword[1:] + inputword[0] + \"ay\" #make a substring from 2nd letter and appends the rest\n",
    "    \n",
    "inputword1 = input(\"Enter the word: \")\n",
    "print(\"The pig-latin form for \" +inputword1 +\" is : \" + pig(inputword1))\n",
    "\n",
    "#Extra\n",
    "print(\"The pig-latin form for ENTER is : \" + pig(\"ENTER\"))\n"
   ]
  },
  {
   "cell_type": "markdown",
   "id": "7884f872",
   "metadata": {},
   "source": [
    "# -----------------------------------------------------------------------------------------"
   ]
  },
  {
   "cell_type": "markdown",
   "id": "f60ab030",
   "metadata": {},
   "source": [
    "## Question 7\n",
    "\n",
    "### File bloodtype1.txt records blood-types of patients (A, B, AB, O or OO) at a clinic. Write a function bldcount() that reads the file with name and reports (i.e., prints) how many patients there are in each bloodtype.\n",
    "\n",
    "\n",
    "\n"
   ]
  },
  {
   "cell_type": "code",
   "execution_count": 7,
   "id": "725b93d8",
   "metadata": {},
   "outputs": [
    {
     "name": "stdout",
     "output_type": "stream",
     "text": [
      "A: 15\n",
      "B: 1\n",
      "AB: 13\n",
      "O: 15\n",
      "OO: 0\n"
     ]
    }
   ],
   "source": [
    "def bldcount(filename):\n",
    "    blood_count = [0, 0, 0, 0, 0] # list for maintaining record\n",
    "    blood_types = ['A', 'B', 'AB', 'O', 'OO']\n",
    "    \n",
    "    file = open(filename, 'r')\n",
    "    \n",
    "    for inputline in file:\n",
    "        all_bloodtypes = inputline.split() # creates a list from the file's text with individual blood type\n",
    "        \n",
    "        for bt in all_bloodtypes:\n",
    "            if bt in blood_types:\n",
    "                index = blood_types.index(bt)\n",
    "                blood_count[index] +=1\n",
    "                    \n",
    "    for i in range(len(blood_types)):  \n",
    "        print(f\"{blood_types[i]}: {blood_count[i]}\")\n",
    "        \n",
    "bldcount(\"bloodtype1.txt\")"
   ]
  },
  {
   "cell_type": "markdown",
   "id": "e5c84b7f",
   "metadata": {},
   "source": [
    "# -----------------------------------------------------------------------------------------"
   ]
  },
  {
   "cell_type": "markdown",
   "id": "93b66a7c",
   "metadata": {},
   "source": [
    "## Question 8\n",
    "\n",
    "### Write a function curconv() that takes as input:\n",
    "### 1. a currency represented using a string (e.g., 'JPY' for the Japanese Yen or 'EUR' for the Euro)\n",
    "### 2. an amount\n",
    "### and then converts and returns the amount in US dollars.\n",
    "\n"
   ]
  },
  {
   "cell_type": "code",
   "execution_count": 6,
   "id": "df9f84cb",
   "metadata": {},
   "outputs": [
    {
     "name": "stdout",
     "output_type": "stream",
     "text": [
      "Enter currency code: EUR\n",
      "Enter amount to convert: 100\n",
      " Exchange for EUR is : 122.96544\n",
      " Exchange for JPY is : 1.241401\n"
     ]
    }
   ],
   "source": [
    "def curconv(currency, amount):\n",
    "    currency_rates = {}\n",
    "    f = open(\"currencies.txt\", 'r')\n",
    "    \n",
    "    for line in f:\n",
    "        code, rate, name = line.split(\"\\t\")   #individual list for each\n",
    "        currency_rates[code] = float(rate)    #storing in dictionary\n",
    "        \n",
    "    rate = currency_rates[currency]  #retrieving rates according to user input\n",
    "    \n",
    "    return amount * rate\n",
    "\n",
    "currency = input(\"Enter currency code: \")\n",
    "amount = float(input(\"Enter amount to convert: \"))\n",
    "\n",
    "print(f\" Exchange for {currency} is : {curconv(currency, amount)}\")\n",
    "\n",
    "#extra\n",
    "print(f\" Exchange for JPY is : {curconv('JPY', 100)}\")\n"
   ]
  },
  {
   "cell_type": "markdown",
   "id": "d3a99ca1",
   "metadata": {},
   "source": [
    "# -----------------------------------------------------------------------------------------"
   ]
  },
  {
   "cell_type": "markdown",
   "id": "00a08897",
   "metadata": {},
   "source": [
    "## Question 9\n",
    "\n",
    "### Each of the following will cause an exception (an error). Identify what type of exception each will cause.\n",
    "\n",
    "#### 1. Trying to add incompatible variables, as in adding 6 + ‘a’\n",
    "#### 2. Referring to the 12th item of a list that has only 10 items\n",
    "#### 3. Using a value that is out of range for a function’s input, such as calling math.sqrt(-1.0)\n",
    "#### 4. Using an undeclared variable, such as print(x) when x has not been defined\n",
    "#### 5. Trying to open a file that does not exist, such as mistyping the file name or looking in the wrong directory.\n",
    "\n"
   ]
  },
  {
   "cell_type": "markdown",
   "id": "e5a8d4eb",
   "metadata": {},
   "source": [
    "## ANSWER\n",
    "\n",
    "### 1. TypeError: Incompatible types cannot be added\n",
    "### 2. IndexError: List index out of range\n",
    "### 3. ValueError: math domain error\n",
    "### 4. NameError: Undeclared variable\n",
    "### 5. FileNotFoundError: No such file or directory"
   ]
  },
  {
   "cell_type": "markdown",
   "id": "959c007d",
   "metadata": {},
   "source": [
    "# -----------------------------------------------------------------------------------------"
   ]
  },
  {
   "cell_type": "markdown",
   "id": "e48d8cbb",
   "metadata": {},
   "source": [
    "## Question 10\n",
    "\n",
    "#### Encryption is the process of hiding the meaning of a text by substituting letters in the message with other letters, according to some system. If the process is successful, no one but the intended recipient can understand the encrypted message. Cryptanalysis refers to attempts to undo the encryption, even if some details of the encryption are unknown (for example, if an encrypted message has been intercepted). The first step of cryptanalysis is often to build up a table of letter frequencies in the encrypted text. Assume that the string letters is already defined as 'abcdefghijklmnopqrstuvwxyz'. Write a function called frequencies() that takes a string as its only parameter, and returns a list of integers, showing the number of times each character appears in the text. Your function may ignore any characters that are not in letters.\n",
    "\n"
   ]
  },
  {
   "cell_type": "code",
   "execution_count": 9,
   "id": "10716a75",
   "metadata": {},
   "outputs": [
    {
     "name": "stdout",
     "output_type": "stream",
     "text": [
      "Enter the string: The quick red fox got bored and went home.\n",
      "Frequencies for input string : [1, 1, 1, 3, 5, 1, 1, 2, 1, 0, 1, 0, 1, 2, 4, 0, 1, 2, 0, 3, 1, 0, 1, 1, 0, 0]\n",
      "Frequencies for apple : [1, 0, 0, 0, 1, 0, 0, 0, 0, 0, 0, 1, 0, 0, 0, 2, 0, 0, 0, 0, 0, 0, 0, 0, 0, 0]\n"
     ]
    }
   ],
   "source": [
    "def frequencies(inputtext):\n",
    "    letter_count = [0] * 26 # initialize list of 26 zeros\n",
    "    letters = \"abcdefghijklmnopqrstuvwxyz\"\n",
    "    \n",
    "    for ch in inputtext:\n",
    "        ch = ch.lower() # convert to lowercase\n",
    "        \n",
    "        if ch in letters: # if char is in the string 'letters'\n",
    "            index = letters.index(ch) # find the index of char in the string 'letters'\n",
    "            letter_count[index] += 1 # increment the count at that index\n",
    "            \n",
    "    return letter_count\n",
    "\n",
    "inputtext = input(\"Enter the string: \")\n",
    "print(f\"Frequencies for input string : {frequencies(inputtext)}\")\n",
    "\n",
    "#extra\n",
    "print(f\"Frequencies for apple : {frequencies('apple')}\")"
   ]
  }
 ],
 "metadata": {
  "kernelspec": {
   "display_name": "Python 3 (ipykernel)",
   "language": "python",
   "name": "python3"
  },
  "language_info": {
   "codemirror_mode": {
    "name": "ipython",
    "version": 3
   },
   "file_extension": ".py",
   "mimetype": "text/x-python",
   "name": "python",
   "nbconvert_exporter": "python",
   "pygments_lexer": "ipython3",
   "version": "3.9.13"
  }
 },
 "nbformat": 4,
 "nbformat_minor": 5
}
