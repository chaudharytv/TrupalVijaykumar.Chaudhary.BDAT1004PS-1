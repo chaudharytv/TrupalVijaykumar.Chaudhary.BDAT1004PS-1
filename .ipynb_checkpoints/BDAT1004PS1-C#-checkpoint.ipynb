{
 "cells": [
  {
   "cell_type": "markdown",
   "id": "03953f00",
   "metadata": {},
   "source": [
    "# BDAT 1004 – Data Programming\n",
    "# Problem Set 1 - C#\n",
    "\n",
    "## Author - Trupal Vijaykumar Chaudhary\n",
    "## ID - 200557631"
   ]
  },
  {
   "cell_type": "markdown",
   "id": "e54b7b99",
   "metadata": {},
   "source": [
    "# -----------------------------------------------------------------------------------------"
   ]
  },
  {
   "cell_type": "markdown",
   "id": "57534c7f",
   "metadata": {},
   "source": [
    "## Question 1 \n",
    "\n",
    "### What data type is each of the following?\n",
    "\n"
   ]
  },
  {
   "cell_type": "markdown",
   "id": "9ceb9d9c",
   "metadata": {},
   "source": [
    "### 5  -  This is an integer\n",
    "### 5.0  -  This is a float\n",
    "### 5 >1  -  This is a boolean (True)\n",
    "### '5'  -  This is a character\n",
    "### 5 * 2  -  This is an integer (10)\n",
    "### '5' * 2  -  This is an integer (106) // ASCII\n",
    "### '5' + '2' - This is an integer (103)  // ASCII\n",
    "### 5/2  -  This is an integer (2)\n",
    "### 5%2  -  This is an integer (1)\n",
    "### {5, 2, 1}  -  This is an integer array\n",
    "### 5 == 3  -  This is a boolean (False)\n",
    "### Pi (the number)  -  The number Pi is a double (3.14159265359) (precision - 11 decimal points)"
   ]
  },
  {
   "cell_type": "markdown",
   "id": "84e5c9a3",
   "metadata": {},
   "source": [
    "# -----------------------------------------------------------------------------------------"
   ]
  },
  {
   "cell_type": "markdown",
   "id": "40487635",
   "metadata": {},
   "source": [
    "## Question 2 \n",
    "### Write (and evaluate) C# expressions that answer these questions:\n",
    "### a. How many letters are there in 'Supercalifragilisticexpialidocious'?\n",
    "\n",
    "### b. Does 'Supercalifragilisticexpialidocious' contain 'ice' as a substring?\n",
    "\n",
    "### c. Which of the following words is the longest: Supercalifragilisticexpialidocious, Honorificabilitudinitatibus, or Bababadalgharaghtakamminarronnkonn?\n",
    "\n",
    "### d. Which composer comes first in the dictionary: 'Berlioz', 'Borodin', 'Brian', 'Bartok', 'Bellini', 'Buxtehude', 'Bernstein'. Which one comes last?"
   ]
  },
  {
   "cell_type": "code",
   "execution_count": 7,
   "id": "1befd670",
   "metadata": {},
   "outputs": [
    {
     "name": "stdout",
     "output_type": "stream",
     "text": [
      "The total letter are : 34\n"
     ]
    }
   ],
   "source": [
    "// A\n",
    "\n",
    "Console.WriteLine($\"The total letter are : {\"Supercalifragilisticexpialidocious\".Length}\");\n"
   ]
  },
  {
   "cell_type": "code",
   "execution_count": 10,
   "id": "6de8bb3d",
   "metadata": {},
   "outputs": [
    {
     "name": "stdout",
     "output_type": "stream",
     "text": [
      "Yes\n"
     ]
    }
   ],
   "source": [
    "// B\n",
    "\n",
    "var BooleanAnswer = \"Supercalifragilisticexpialidocious\".Contains(\"ice\");   //expression\n",
    "\n",
    "if(BooleanAnswer)\n",
    "    Console.WriteLine(\"Yes\");\n",
    "else\n",
    "    Console.WriteLine(\"No\");\n"
   ]
  },
  {
   "cell_type": "code",
   "execution_count": 34,
   "id": "f04fe17b",
   "metadata": {},
   "outputs": [
    {
     "name": "stdout",
     "output_type": "stream",
     "text": [
      "The longest word(s):\n",
      "Supercalifragilisticexpialidocious\n",
      "Bababadalgharaghtakamminarronnkonn\n"
     ]
    }
   ],
   "source": [
    "// C\n",
    "\n",
    "Console.WriteLine(\"The longest word(s):\");\n",
    "\n",
    "string[] allwords = new string[] { \"Supercalifragilisticexpialidocious\", \"Honorificabilitudinitatibus\", \"Bababadalgharaghtakamminarronnkonn\" };\n",
    "int longestLength = 0;\n",
    "\n",
    "foreach (string word in allwords)\n",
    "{\n",
    "    if (word.Length > longestLength)\n",
    "    {\n",
    "        longestLength = word.Length;\n",
    "    }\n",
    "}\n",
    "\n",
    "foreach (string word in allwords)\n",
    "{\n",
    "    if (word.Length == longestLength)\n",
    "    {\n",
    "        Console.WriteLine(word);\n",
    "    }\n",
    "}\n",
    "\n"
   ]
  },
  {
   "cell_type": "code",
   "execution_count": 17,
   "id": "9ac7ad62",
   "metadata": {},
   "outputs": [
    {
     "name": "stdout",
     "output_type": "stream",
     "text": [
      "The first composer in dictionary order is Bartok\n",
      "The last composer in dictionary order is Buxtehude\n"
     ]
    }
   ],
   "source": [
    "// D\n",
    "\n",
    "string[] composers = new string[] { \"Berlioz\", \"Borodin\", \"Brian\", \"Bartok\", \"Bellini\", \"Buxtehude\", \"Bernstein\" };\n",
    "Array.Sort(composers);  // https://learn.microsoft.com/en-us/dotnet/api/system.array.sort?view=net-7.0\n",
    "\n",
    "string first = composers[0];\n",
    "string last = composers[composers.Length - 1];\n",
    "\n",
    "Console.WriteLine(\"The first composer in dictionary order is \" + first);\n",
    "Console.WriteLine(\"The last composer in dictionary order is \" + last);\n"
   ]
  },
  {
   "cell_type": "markdown",
   "id": "47762b87",
   "metadata": {},
   "source": [
    "# -----------------------------------------------------------------------------------------"
   ]
  },
  {
   "cell_type": "markdown",
   "id": "d0e8f537",
   "metadata": {},
   "source": [
    "## Question 3\n",
    "### Implement function triangleArea(a,b,c) that takes as input the lengths of the 3 sides of a triangle and returns the area of the triangle. By Heron's formula, the area of a triangle with side lengths a, b, and c is s(s-a)(s-b)(s-c), where s=(a+b+c)/2."
   ]
  },
  {
   "cell_type": "code",
   "execution_count": 2,
   "id": "4718a42d",
   "metadata": {},
   "outputs": [
    {
     "name": "stdout",
     "output_type": "stream",
     "text": [
      "The area of triangle is: 1.7320508075688772\n"
     ]
    }
   ],
   "source": [
    "double triangleArea(double a, double b, double c)  //using double for more precision as per question\n",
    "{\n",
    "    double s = (a + b + c) / 2;\n",
    "    double area = Math.Sqrt(s * (s - a) * (s - b) * (s - c));  // https://learn.microsoft.com/en-us/dotnet/api/system.math.sqrt?view=net-7.0\n",
    "    return area;\n",
    "}\n",
    "\n",
    "Console.WriteLine(\"The area of triangle is: \" + triangleArea(2,2,2));"
   ]
  },
  {
   "cell_type": "markdown",
   "id": "b17fb120",
   "metadata": {},
   "source": [
    "# -----------------------------------------------------------------------------------------"
   ]
  },
  {
   "cell_type": "markdown",
   "id": "00ba8cae",
   "metadata": {},
   "source": [
    "## Question 4\n",
    "### Write a program in C# Sharp to separate odd and even integers in separate arrays. "
   ]
  },
  {
   "cell_type": "code",
   "execution_count": 18,
   "id": "9d20da02",
   "metadata": {},
   "outputs": [
    {
     "name": "stdout",
     "output_type": "stream",
     "text": [
      "Even numbers: \n",
      "42 56 32 \n",
      "Odd numbers: \n",
      "25 47 "
     ]
    }
   ],
   "source": [
    "//Console.WriteLine(\"Input the number of elements to be stored in the array: \");\n",
    "//int size = Console.ReadLine();  //size = 5\n",
    "\n",
    "//Console.WriteLine($\"Input {size} elements in the array : \");\n",
    "//int numbers = new int[size];\n",
    "\n",
    "//for (int i = 0; i < size; i++)\n",
    "//    {\n",
    "//        Console.Write(\"element - \" + i + \" : \");\n",
    "//        numbers[i] = Console.ReadLine();\n",
    "//    }\n",
    "\n",
    "int size = 5;\n",
    "int[] numbers = {25,47,42,56,32};\n",
    "\n",
    "\n",
    "\n",
    "int[] evenNumbers = new int[size];\n",
    "int[] oddNumbers = new int[size];\n",
    "\n",
    "int evenIndex = 0;\n",
    "int oddIndex = 0;\n",
    "\n",
    "for (int i = 0; i < size; i++)\n",
    "{\n",
    "    if (numbers[i] % 2 == 0)         //even\n",
    "    {\n",
    "        evenNumbers[evenIndex] = numbers[i];\n",
    "        evenIn++;\n",
    "    }\n",
    "    else                             //odd\n",
    "    {\n",
    "        oddNumbers[oddIndex] = numbers[i];\n",
    "        oddIn++;\n",
    "    }\n",
    "}\n",
    "\n",
    "Console.WriteLine(\"Even numbers: \");\n",
    "\n",
    "for (int i = 0; i < evenIndex; i++)\n",
    "{\n",
    "    Console.Write(evenNumbers[i] + \" \");\n",
    "}\n",
    "\n",
    "Console.WriteLine();\n",
    "\n",
    "Console.WriteLine(\"Odd numbers: \");\n",
    "for (int i = 0; i < oddIndex; i++)\n",
    "{\n",
    "    Console.Write(oddNumbers[i] + \" \");\n",
    "}\n"
   ]
  },
  {
   "cell_type": "markdown",
   "id": "61b02fdc",
   "metadata": {},
   "source": [
    "# -----------------------------------------------------------------------------------------"
   ]
  },
  {
   "cell_type": "markdown",
   "id": "32a7d66a",
   "metadata": {},
   "source": [
    "## Question 5\n",
    "\n",
    "### a. Write a function inside(x,y,x1,y1,x2,y2) that returns True or False depending on whether the point (x,y) lies in the rectangle with lower left corner (x1,y1) and upper right corner (x2,y2).\n",
    "\n",
    "\n",
    "### b. Use function inside() from part a. to write an expression that tests whether the point (1,1) lies in both of the following rectangles: one with lower left corner (0.3, 0.5) and upper right corner (1.1, 0.7) and the other with lower left corner (0.5, 0.2) and upper right corner (1.1, 2)."
   ]
  },
  {
   "cell_type": "code",
   "execution_count": 35,
   "id": "e4d15e2b",
   "metadata": {},
   "outputs": [
    {
     "name": "stdout",
     "output_type": "stream",
     "text": [
      "For 1,1,0,0,2,3 -> True\n",
      "For -1,-1,0,0,2,3 -> False\n"
     ]
    }
   ],
   "source": [
    "// A\n",
    "\n",
    "bool inside(int x, int y, int x1, int y1, int x2, int y2)\n",
    "{\n",
    "    return (x >= x1 && x <= x2) && (y >= y1 && y <= y2);\n",
    "}\n",
    "\n",
    "Console.WriteLine($\"For 1,1,0,0,2,3 -> {inside(1,1,0,0,2,3)}\");\n",
    "Console.WriteLine($\"For -1,-1,0,0,2,3 -> {inside(-1,-1,0,0,2,3)}\");\n",
    "\n",
    "/* If the x coordinate of the point is between the x coordinates of the two corners of the rectangle and\n",
    "If the y coordinate of the point is between the y coordinates of the two corners, the function returns \"true\".\n",
    "If either the x or y coordinate of the point is not within the rectangle, the function returns \"false\". */"
   ]
  },
  {
   "cell_type": "code",
   "execution_count": 36,
   "id": "a7af247d",
   "metadata": {},
   "outputs": [
    {
     "name": "stdout",
     "output_type": "stream",
     "text": [
      "No, the point doesn't lie in both rectangles\n"
     ]
    }
   ],
   "source": [
    "// B\n",
    "\n",
    "bool firstRect = inside(1, 1, 0.3f, 0.5f, 1.1f, 0.7f);\n",
    "bool secondRect = inside(1, 1, 0.5f, 0.2f, 1.1f, 2f);\n",
    "\n",
    "if (firstRect && secondRect)\n",
    "    Console.WriteLine(\"Yes, the point lies in both rectangles\");\n",
    "else\n",
    "    Console.WriteLine(\"No, the point doesn't lie in both rectangles\");\n"
   ]
  }
 ],
 "metadata": {
  "kernelspec": {
   "display_name": ".NET (C#)",
   "language": "C#",
   "name": ".net-csharp"
  },
  "language_info": {
   "file_extension": ".cs",
   "mimetype": "text/x-csharp",
   "name": "C#",
   "pygments_lexer": "csharp",
   "version": "11.0"
  }
 },
 "nbformat": 4,
 "nbformat_minor": 5
}
